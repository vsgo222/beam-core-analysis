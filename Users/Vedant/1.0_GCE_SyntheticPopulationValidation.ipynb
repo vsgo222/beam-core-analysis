{
 "cells": [
  {
   "cell_type": "code",
   "execution_count": 14,
   "metadata": {
    "collapsed": true,
    "ExecuteTime": {
     "start_time": "2023-04-27T15:31:33.130711Z",
     "end_time": "2023-04-27T15:31:33.192107Z"
    }
   },
   "outputs": [
    {
     "name": "stdout",
     "output_type": "stream",
     "text": [
      "/tmp/pycharm_project_316/BEAM_Freight\n"
     ]
    }
   ],
   "source": [
    "# import libraries\n",
    "import pandas as pd\n",
    "import pygeos\n",
    "import geopandas as gpd\n",
    "import matplotlib.pyplot as plt\n",
    "import numpy as np\n",
    "import pathlib\n",
    "from pathlib import Path\n",
    "import os\n",
    "os.environ['USE_PYGEOS'] = '0'\n",
    "import seaborn as sns\n",
    "import datetime\n",
    "import shapely\n",
    "from shapely.geometry import shape, Point, LineString, Polygon\n",
    "from collections import defaultdict\n",
    "# Census Data\n",
    "import censusdata\n",
    "\n",
    "# set the working directory\n",
    "BASE_DIR = Path.cwd()\n",
    "# print(BASE_DIR)\n",
    "\n",
    "#set the project directory\n",
    "project_folder = BASE_DIR.parent.parent\n",
    "print(project_folder)"
   ]
  },
  {
   "cell_type": "code",
   "execution_count": 15,
   "outputs": [],
   "source": [
    "# Upload output in the respective bucket storage in the following path\n",
    "# \"gs://beam-core-outputs/output/city_name/simulation_name/Output/*\" or\n",
    "# \"gs://beam-core-outputs/output/city_name/simulation_name/Output/plot/*\" or\n",
    "\n",
    "from google.cloud import storage\n",
    "# Upload file to Google Cloud service\n",
    "def upload_blob(_bucket_name, _source_file_name, _destination_blob_name):\n",
    "    \"\"\"Uploads a file to the bucket.\"\"\"\n",
    "    # The ID of your GCS bucket\n",
    "    # bucket_name = \"your-bucket-name\"\n",
    "    # The path to your file to upload\n",
    "    # source_file_name = \"local/path/to/file\"\n",
    "    # The ID of your GCS object\n",
    "    # destination_blob_name = \"storage-object-name\"\n",
    "    storage_client = storage.Client()\n",
    "    bucket = storage_client.bucket(_bucket_name)\n",
    "    blob = bucket.blob(_destination_blob_name)\n",
    "    # Optional: set a generation-match precondition to avoid potential race conditions\n",
    "    # and data corruptions. The request to upload is aborted if the object's\n",
    "    # generation number does not match your precondition. For a destination\n",
    "    # object that does not yet exist, set the if_generation_match precondition to 0.\n",
    "    # If the destination object already exists in your bucket, set instead a\n",
    "    # generation-match precondition using its generation number.\n",
    "    generation_match_precondition = 0\n",
    "    blob.upload_from_filename(_source_file_name, if_generation_match=generation_match_precondition)\n",
    "    print(\n",
    "        f\"File {_source_file_name} uploaded to {_destination_blob_name}.\"\n",
    "    )\n",
    "\n",
    "def delete_blob(_bucket_name, _blob_name):\n",
    "    \"\"\"Deletes a blob from the bucket.\"\"\"\n",
    "    # bucket_name = \"your-bucket-name\"\n",
    "    # blob_name = \"your-object-name\"\n",
    "\n",
    "    storage_client = storage.Client()\n",
    "\n",
    "    bucket = storage_client.bucket(_bucket_name)\n",
    "    blob = bucket.blob(_blob_name)\n",
    "    generation_match_precondition = None\n",
    "\n",
    "    # Optional: set a generation-match precondition to avoid potential race conditions\n",
    "    # and data corruptions. The request to delete is aborted if the object's\n",
    "    # generation number does not match your precondition.\n",
    "    blob.reload()  # Fetch blob metadata to use in generation_match_precondition.\n",
    "    generation_match_precondition = blob.generation\n",
    "\n",
    "    blob.delete(if_generation_match=generation_match_precondition)\n",
    "\n",
    "    print(f\"Blob {_blob_name} deleted.\")"
   ],
   "metadata": {
    "collapsed": false,
    "ExecuteTime": {
     "start_time": "2023-04-27T15:31:33.192107Z",
     "end_time": "2023-04-27T15:31:33.194100Z"
    }
   }
  },
  {
   "cell_type": "code",
   "execution_count": 16,
   "outputs": [],
   "source": [
    "# Basic Reference Points\n",
    "city_name=\"austin\"\n",
    "gcloud_bucket = \"gs://beam-core-outputs/output/austin\"\n",
    "linkstats_file_path = \"0.linkstats.csv.gz\"\n",
    "simulation_name = \"austin-base-with-freight-2018__2023-04-14_16-11-13_yoq\"\n",
    "analysis_type = \"Freight\"\n",
    "\n",
    "#Check if the folder exist, if not create it.\n",
    "try:\n",
    "    pathlib.Path(project_folder.joinpath(\"Output\", city_name, simulation_name, analysis_type, \"plot\")).mkdir(parents=True, exist_ok=False)\n",
    "except:\n",
    "    pass"
   ],
   "metadata": {
    "collapsed": false,
    "ExecuteTime": {
     "start_time": "2023-04-27T15:31:33.072196Z",
     "end_time": "2023-04-27T15:31:33.194100Z"
    }
   }
  },
  {
   "cell_type": "code",
   "execution_count": 17,
   "outputs": [],
   "source": [
    "# load synthetic population for validation\n",
    "households = pd.read_csv(project_folder.joinpath(\"Reference_Data\",city_name, \"households.csv\"))\n",
    "persons = pd.read_csv(project_folder.joinpath(\"Reference_Data\",city_name, \"persons.csv\"))"
   ],
   "metadata": {
    "collapsed": false,
    "ExecuteTime": {
     "start_time": "2023-04-27T15:31:33.072196Z",
     "end_time": "2023-04-27T15:31:36.610789Z"
    }
   }
  },
  {
   "cell_type": "code",
   "execution_count": 18,
   "outputs": [],
   "source": [
    "# scenario variables\n",
    "households.loc[:, 'state'] = households['lcm_county_id']/1000\n",
    "households.loc[:, 'state'] = households['state'].astype(int)\n",
    "households.loc[:, 'state'] = households['state'].astype(str).str.zfill(2)\n",
    "households.loc[:, 'county'] = households['lcm_county_id']%1000\n",
    "households.loc[:, 'county'] = households['county'].astype(int)\n",
    "households.loc[:, 'county'] = households['county'].astype(str).str.zfill(3)\n",
    "\n",
    "list_of_fips = households.county.unique() #This extracts the counties or areas compromising of Austin metropolis\n",
    "\n",
    "#list_of_fips = [str(i%1000).zfill(3) for i in list_of_counties]\n",
    "# print(list_of_fips)\n",
    "year = 2018\n",
    "validation_source = 'acs5'\n",
    "state = '48'"
   ],
   "metadata": {
    "collapsed": false,
    "ExecuteTime": {
     "start_time": "2023-04-27T15:31:33.072196Z",
     "end_time": "2023-04-27T15:31:37.341890Z"
    }
   }
  },
  {
   "cell_type": "code",
   "execution_count": 19,
   "outputs": [],
   "source": [
    "# fetch data from census website using census package.\n",
    "# Key inputs include the year = \"2018\", data source = \"acs5\" and the state = \"texas\" | 48\n",
    "data = censusdata.download(validation_source, year,censusdata.censusgeo([('state', state),('county', '*')]),\n",
    "                           ['B11001_001E', 'B01001_001E', 'B01001_002E', 'B01001_026E', # hh, person, male, female\n",
    "                            'B08202_001E', 'B08202_002E', 'B08202_003E', 'B08202_004E', 'B08202_005E',  # household by numbers of workers\n",
    "                            'B19001_002E', 'B19001_003E', 'B19001_004E', 'B19001_005E', 'B19001_006E',\n",
    "                            'B19001_007E', 'B19001_008E', 'B19001_009E', 'B19001_010E', 'B19001_011E',\n",
    "                            'B19001_012E', 'B19001_013E', 'B19001_014E', 'B19001_015E', 'B19001_016E',\n",
    "                            'B19001_017E', # income\n",
    "                            'B08201_002E', 'B08201_003E', 'B08201_004E', 'B08201_005E', 'B08201_006E',  # vehicle ownership\n",
    "                            'B09018_002E',  # Children\n",
    "                            'B01001_003E', 'B01001_004E', 'B01001_005E', 'B01001_006E', 'B01001_007E',\n",
    "                            'B01001_008E', 'B01001_009E', 'B01001_010E', 'B01001_011E', 'B01001_012E',\n",
    "                            'B01001_013E', 'B01001_014E', 'B01001_015E', 'B01001_016E', 'B01001_017E',\n",
    "                            'B01001_018E', 'B01001_019E', 'B01001_020E', 'B01001_021E', 'B01001_022E',\n",
    "                            'B01001_023E', 'B01001_024E', 'B01001_025E', #male age group\n",
    "                            'B01001_027E', 'B01001_028E', 'B01001_029E', 'B01001_030E', 'B01001_031E',\n",
    "                            'B01001_032E', 'B01001_033E', 'B01001_034E', 'B01001_035E', 'B01001_036E',\n",
    "                            'B01001_037E', 'B01001_038E', 'B01001_039E', 'B01001_040E', 'B01001_041E',\n",
    "                            'B01001_042E', 'B01001_043E', 'B01001_044E', 'B01001_045E', 'B01001_046E',\n",
    "                            'B01001_047E', 'B01001_048E', 'B01001_049E', # female age group\n",
    "                            'B02001_002E', 'B02001_003E', 'B02001_004E', 'B02001_005E', 'B02001_006E',\n",
    "                            'B02001_007E', 'B02001_008E', 'B02001_009E', 'B02001_010E',  # race\n",
    "                            'B23025_002E'])   # worker status\n",
    "data = data.reset_index()\n",
    "# print(data.columns)\n",
    "data.loc[:, 'index'] = data['index'].astype(str)\n",
    "data.loc[:, 'county'] = data['index'].str[-3:]\n",
    "data.loc[:, 'county name'] = data['index'].str.split(' ').str[0]\n",
    "#'B01001_001E', 'B01001_002E', 'B01001_026E'\n",
    "\n",
    "# Keep records of only counties which belong to our interest - in this case Austin\n",
    "austin_data = data.loc[data['county'].isin(list_of_fips)].copy()\n",
    "# austin_data.head(5)"
   ],
   "metadata": {
    "collapsed": false,
    "ExecuteTime": {
     "start_time": "2023-04-27T15:31:33.072196Z",
     "end_time": "2023-04-27T15:31:39.057800Z"
    }
   }
  },
  {
   "cell_type": "code",
   "execution_count": 20,
   "outputs": [],
   "source": [
    "# compare total households\n",
    "modeled_household_count = households.groupby(['county'])[['household_id']].count()\n",
    "modeled_household_count.columns = ['BEAM households']\n",
    "modeled_household_count = modeled_household_count.reset_index()\n",
    "\n",
    "acs_household_count = austin_data[['county', 'county name', 'B11001_001E']].copy()\n",
    "acs_household_count.columns = ['county', 'county name', 'ACS households']\n",
    "household_count_comparison = pd.merge(acs_household_count, modeled_household_count,on = 'county', how = 'left')\n",
    "household_count_comparison.plot(x = 'county name', kind = 'bar')\n",
    "plt.ylabel('count of households')\n",
    "plt.xticks(rotation=0, ha='center')\n",
    "# plt.ylabel('count of households')\n",
    "plt.title('Total households comparison')\n",
    "plt_file_name = \"household_count_by_county.png\"\n",
    "plt.savefig(project_folder.joinpath(\"Output\", city_name, simulation_name, analysis_type, \"plot\",plt_file_name), dpi = 600, bbox_inches = 'tight')\n",
    "# plt.show()\n",
    "\n",
    "total_synth_hh = household_count_comparison['BEAM households'].sum()\n",
    "total_acs_hh = household_count_comparison['ACS households'].sum()\n",
    "print(total_synth_hh, total_acs_hh)\n",
    "print(total_synth_hh/total_acs_hh - 1)"
   ],
   "metadata": {
    "collapsed": false,
    "ExecuteTime": {
     "start_time": "2023-04-27T15:31:33.072196Z",
     "end_time": "2023-04-27T15:31:39.825839Z"
    }
   }
  },
  {
   "cell_type": "code",
   "execution_count": 21,
   "outputs": [],
   "source": [
    "bucket_name = \"beam-core-outputs\"\n",
    "source_file_name = project_folder.joinpath(\"Output\", city_name, simulation_name, analysis_type, \"plot\",plt_file_name)\n",
    "destination_blob_name = f\"output/{city_name}/{simulation_name}/Output/plot/{plt_file_name}\"\n",
    "\n",
    "# Check if the file exist in the bucket. If \"Yes\", delete\n",
    "try:\n",
    "    delete_blob(_bucket_name=bucket_name, _blob_name=destination_blob_name)\n",
    "except:\n",
    "    pass\n",
    "# and upload the file\n",
    "upload_blob(bucket_name, source_file_name, destination_blob_name)\n"
   ],
   "metadata": {
    "collapsed": false,
    "ExecuteTime": {
     "start_time": "2023-04-27T15:31:33.072196Z",
     "end_time": "2023-04-27T15:31:40.098207Z"
    }
   }
  },
  {
   "cell_type": "code",
   "execution_count": 22,
   "outputs": [],
   "source": [
    "# compare total persons\n",
    "modeled_person_count = households.groupby(['county'])[['persons']].sum()\n",
    "modeled_person_count.columns = ['BEAM persons']\n",
    "modeled_person_count = modeled_person_count.reset_index()\n",
    "\n",
    "acs_person_count = austin_data[['county', 'county name', 'B01001_001E']].copy()\n",
    "acs_person_count.columns = ['county', 'county name', 'ACS persons']\n",
    "person_count_comparison = pd.merge(acs_person_count, modeled_person_count,on = 'county', how = 'left')\n",
    "person_count_comparison.plot(x = 'county name', kind = 'bar')\n",
    "plt.ylabel('count of persons')\n",
    "plt.title('Total persons')\n",
    "plt.xticks(rotation=0, ha='center')\n",
    "plt_file_name = \"person_count_by_county.png\"\n",
    "plt.savefig(project_folder.joinpath(\"Output\", city_name, simulation_name, analysis_type, \"plot\",plt_file_name), dpi = 600, bbox_inches = 'tight')\n",
    "# plt.show()\n",
    "\n",
    "\n",
    "total_synth_person = person_count_comparison['BEAM persons'].sum()\n",
    "total_acs_person = person_count_comparison['ACS persons'].sum()\n",
    "print(total_synth_person, total_acs_person)\n",
    "print(total_synth_person/total_acs_person - 1)"
   ],
   "metadata": {
    "collapsed": false,
    "ExecuteTime": {
     "start_time": "2023-04-27T15:31:33.072196Z",
     "end_time": "2023-04-27T15:31:40.908942Z"
    }
   }
  },
  {
   "cell_type": "code",
   "execution_count": 23,
   "outputs": [],
   "source": [
    "bucket_name = \"beam-core-outputs\"\n",
    "source_file_name = project_folder.joinpath(\"Output\", city_name, simulation_name, analysis_type, \"plot\",plt_file_name)\n",
    "destination_blob_name = f\"output/{city_name}/{simulation_name}/Output/plot/{plt_file_name}\"\n",
    "# Check if the file exist in the bucket. If \"Yes\", delete\n",
    "try:\n",
    "    delete_blob(_bucket_name=bucket_name, _blob_name=destination_blob_name)\n",
    "except:\n",
    "    pass\n",
    "# and upload the file\n",
    "upload_blob(bucket_name, source_file_name, destination_blob_name)"
   ],
   "metadata": {
    "collapsed": false,
    "ExecuteTime": {
     "start_time": "2023-04-27T15:31:33.072196Z",
     "end_time": "2023-04-27T15:31:41.155694Z"
    }
   }
  },
  {
   "cell_type": "code",
   "execution_count": 24,
   "outputs": [],
   "source": [
    "# compare household by number of workers\n",
    "modeled_household_by_workers = households.groupby('hh_workers')[['household_id']].count()\n",
    "modeled_household_by_workers.columns = ['BEAM households']\n",
    "modeled_household_by_workers = modeled_household_by_workers.reset_index()\n",
    "\n",
    "austin_data.loc[:, 'none'] = austin_data['B08202_002E']\n",
    "austin_data.loc[:, 'one'] = austin_data['B08202_003E']\n",
    "austin_data.loc[:, 'two or more'] = austin_data['B08202_004E'] + austin_data['B08202_005E']\n",
    "\n",
    "acs_household_by_workers = pd.melt(austin_data, id_vars=['county name'],\n",
    "                                   value_vars=['none', 'one', 'two or more'],\n",
    "                                   var_name = 'hh_workers', value_name = 'ACS households')\n",
    "acs_household_by_workers = acs_household_by_workers.groupby('hh_workers')[['ACS households']].sum()\n",
    "acs_household_by_workers = acs_household_by_workers.reset_index()\n",
    "\n",
    "household_by_worker_comparison = pd.merge(acs_household_by_workers,modeled_household_by_workers,on = 'hh_workers', how = 'left')\n",
    "household_by_worker_comparison.plot(x = 'hh_workers', kind = 'bar')\n",
    "plt.xticks(rotation=0, ha='center')\n",
    "plt.xlabel('number of workers in each household')\n",
    "plt.ylabel('count of households')\n",
    "plt.title('Total households by number of workers comparison')\n",
    "plt_file_name = \"household_count_by_workers.png\"\n",
    "plt.savefig(project_folder.joinpath(\"Output\", city_name, simulation_name, analysis_type, \"plot\",plt_file_name), dpi = 600, bbox_inches = 'tight')\n",
    "# plt.show()"
   ],
   "metadata": {
    "collapsed": false,
    "ExecuteTime": {
     "start_time": "2023-04-27T15:31:33.072196Z",
     "end_time": "2023-04-27T15:31:41.892278Z"
    }
   }
  },
  {
   "cell_type": "code",
   "execution_count": 25,
   "outputs": [],
   "source": [
    "bucket_name = \"beam-core-outputs\"\n",
    "source_file_name = project_folder.joinpath(\"Output\", city_name, simulation_name, analysis_type, \"plot\",plt_file_name)\n",
    "destination_blob_name = f\"output/{city_name}/{simulation_name}/Output/plot/{plt_file_name}\"\n",
    "# Check if the file exist in the bucket. If \"Yes\", delete\n",
    "try:\n",
    "    delete_blob(_bucket_name=bucket_name, _blob_name=destination_blob_name)\n",
    "except:\n",
    "    pass\n",
    "# and upload the file\n",
    "upload_blob(bucket_name, source_file_name, destination_blob_name)"
   ],
   "metadata": {
    "collapsed": false,
    "ExecuteTime": {
     "start_time": "2023-04-27T15:31:33.072196Z",
     "end_time": "2023-04-27T15:31:42.167157Z"
    }
   }
  },
  {
   "cell_type": "code",
   "execution_count": 26,
   "outputs": [],
   "source": [
    "# household income\n",
    "inc_group_lookup = {'lt30': '< $30k',\n",
    "                    'gt30-lt60': '>=$30k, <$60k',\n",
    "                    'gt60-lt100': '>=$60k, <$100k',\n",
    "                    'gt100-lt150': '>=$100k, <$150k',\n",
    "                    'gt150': '>=$150k'}\n",
    "ub_lookup = {'lt30': 30000,\n",
    "             'gt30-lt60': 60000,\n",
    "             'gt60-lt100': 100000,\n",
    "             'gt100-lt150': 150000,\n",
    "             'gt150': 200000}\n",
    "modeled_household_by_income = households.groupby('hh_income')[['household_id']].count()\n",
    "modeled_household_by_income.columns = ['BEAM households']\n",
    "modeled_household_by_income = modeled_household_by_income.reset_index()\n",
    "\n",
    "\n",
    "austin_data.loc[:, 'lt30'] = austin_data['B19001_002E'] + austin_data['B19001_003E'] + \\\n",
    "                             austin_data['B19001_004E'] + austin_data['B19001_005E'] + \\\n",
    "                             austin_data['B19001_006E']\n",
    "\n",
    "\n",
    "austin_data.loc[:, 'gt30-lt60'] = austin_data['B19001_007E'] + austin_data['B19001_008E'] + \\\n",
    "                                  austin_data['B19001_009E'] + austin_data['B19001_010E'] + \\\n",
    "                                  austin_data['B19001_011E']\n",
    "\n",
    "austin_data.loc[:, 'gt60-lt100'] = austin_data['B19001_012E'] + austin_data['B19001_013E']\n",
    "\n",
    "austin_data.loc[:, 'gt100-lt150'] = austin_data['B19001_014E'] + austin_data['B19001_015E']\n",
    "\n",
    "austin_data.loc[:, 'gt150'] = austin_data['B19001_016E'] + austin_data['B19001_017E']\n",
    "\n",
    "\n",
    "acs_household_by_income = pd.melt(austin_data, id_vars=['county name'],\n",
    "                                  value_vars=['lt30', 'gt30-lt60', 'gt60-lt100', 'gt100-lt150',  'gt150'],\n",
    "                                  var_name = 'hh_income', value_name = 'ACS households')\n",
    "acs_household_by_income = acs_household_by_income.groupby('hh_income')[['ACS households']].sum()\n",
    "acs_household_by_income = acs_household_by_income.reset_index()\n",
    "\n",
    "household_by_income_comparison = pd.merge(acs_household_by_income,\n",
    "                                          modeled_household_by_income,\n",
    "                                          on = 'hh_income', how = 'left')\n",
    "household_by_income_comparison.loc[:, 'income_group'] = household_by_income_comparison['hh_income'].map(inc_group_lookup)\n",
    "household_by_income_comparison.loc[:, 'ub'] = household_by_income_comparison['hh_income'].map(ub_lookup)\n",
    "household_by_income_comparison = household_by_income_comparison.sort_values('ub', ascending = True)\n",
    "\n",
    "household_by_income_comparison[['income_group', 'ACS households', 'BEAM households']].plot(x = 'income_group', kind = 'bar')\n",
    "plt.ylabel('count of households')\n",
    "plt.xticks(rotation=0, ha='center')\n",
    "plt.xlabel('income group category')\n",
    "plt.title('Total households by income group comparison')\n",
    "plt_file_name = \"household_count_by_income.png\"\n",
    "plt.savefig(project_folder.joinpath(\"Output\", city_name, simulation_name, analysis_type, \"plot\",plt_file_name), dpi = 600, bbox_inches = 'tight')\n",
    "# plt.show()"
   ],
   "metadata": {
    "collapsed": false,
    "ExecuteTime": {
     "start_time": "2023-04-27T15:31:33.072196Z",
     "end_time": "2023-04-27T15:31:42.985019Z"
    }
   }
  },
  {
   "cell_type": "code",
   "execution_count": 27,
   "outputs": [],
   "source": [
    "bucket_name = \"beam-core-outputs\"\n",
    "source_file_name = project_folder.joinpath(\"Output\", city_name, simulation_name, analysis_type, \"plot\",plt_file_name)\n",
    "destination_blob_name = f\"output/{city_name}/{simulation_name}/Output/plot/{plt_file_name}\"\n",
    "# Check if the file exist in the bucket. If \"Yes\", delete\n",
    "try:\n",
    "    delete_blob(_bucket_name=bucket_name, _blob_name=destination_blob_name)\n",
    "except:\n",
    "    pass\n",
    "# and upload the file\n",
    "upload_blob(bucket_name, source_file_name, destination_blob_name)"
   ],
   "metadata": {
    "collapsed": false,
    "ExecuteTime": {
     "start_time": "2023-04-27T15:31:33.072196Z",
     "end_time": "2023-04-27T15:31:43.254983Z"
    }
   }
  },
  {
   "cell_type": "code",
   "execution_count": 28,
   "outputs": [],
   "source": [
    "# compare household vehicle ownership\n",
    "modeled_household_by_vehicle = households.groupby('hh_cars')[['household_id']].count()\n",
    "modeled_household_by_vehicle.columns = ['BEAM households']\n",
    "modeled_household_by_vehicle = modeled_household_by_vehicle.reset_index()\n",
    "# modeled_household_by_vehicle\n",
    "\n",
    "austin_data.loc[:, 'none'] = austin_data['B08201_002E']\n",
    "austin_data.loc[:, 'one'] = austin_data['B08201_003E']\n",
    "austin_data.loc[:, 'two or more'] = austin_data['B08201_004E'] + \\\n",
    "                                    austin_data['B08201_005E'] + austin_data['B08201_006E']\n",
    "\n",
    "acs_household_by_vehicle = pd.melt(austin_data, id_vars=['county name'],\n",
    "                                   value_vars=['none', 'one', 'two or more'],\n",
    "                                   var_name = 'hh_cars', value_name = 'ACS households')\n",
    "acs_household_by_vehicle = acs_household_by_vehicle.groupby('hh_cars')[['ACS households']].sum()\n",
    "acs_household_by_vehicle = acs_household_by_vehicle.reset_index()\n",
    "\n",
    "household_by_vehicle_comparison = pd.merge(acs_household_by_vehicle,\n",
    "                                           modeled_household_by_vehicle,\n",
    "                                           on = 'hh_cars', how = 'left')\n",
    "\n",
    "household_by_vehicle_comparison.plot(x = 'hh_cars', kind = 'bar')\n",
    "plt.ylabel('count of households')\n",
    "plt.xticks(rotation=0, ha='center')\n",
    "plt.xlabel('car ownership')\n",
    "plt.title('Total households by car ownership comparison')\n",
    "plt_file_name = \"household_count_by_vehicle.png\"\n",
    "plt.savefig(project_folder.joinpath(\"Output\", city_name, simulation_name, analysis_type, \"plot\",plt_file_name), dpi = 600, bbox_inches = 'tight')\n",
    "# plt.show()"
   ],
   "metadata": {
    "collapsed": false,
    "ExecuteTime": {
     "start_time": "2023-04-27T15:31:33.072196Z",
     "end_time": "2023-04-27T15:31:43.982312Z"
    }
   }
  },
  {
   "cell_type": "code",
   "execution_count": 29,
   "outputs": [],
   "source": [
    "bucket_name = \"beam-core-outputs\"\n",
    "source_file_name = project_folder.joinpath(\"Output\", city_name, simulation_name, analysis_type, \"plot\",plt_file_name)\n",
    "destination_blob_name = f\"output/{city_name}/{simulation_name}/Output/plot/{plt_file_name}\"\n",
    "# Check if the file exist in the bucket. If \"Yes\", delete\n",
    "try:\n",
    "    delete_blob(_bucket_name=bucket_name, _blob_name=destination_blob_name)\n",
    "except:\n",
    "    pass\n",
    "# and upload the file\n",
    "upload_blob(bucket_name, source_file_name, destination_blob_name)"
   ],
   "metadata": {
    "collapsed": false,
    "ExecuteTime": {
     "start_time": "2023-04-27T15:31:33.072196Z",
     "end_time": "2023-04-27T15:31:44.222952Z"
    }
   }
  },
  {
   "cell_type": "code",
   "execution_count": 30,
   "outputs": [],
   "source": [
    "# compare household with children\n",
    "modeled_household_with_child = households.groupby('hh_children')[['household_id']].count()\n",
    "modeled_household_with_child.columns = ['BEAM households']\n",
    "modeled_household_with_child = modeled_household_with_child.reset_index()\n",
    "# modeled_household_with_child\n",
    "\n",
    "austin_data.loc[:, 'yes'] = austin_data['B09018_002E']\n",
    "austin_data.loc[:, 'no'] = austin_data['B11001_001E'] - \\\n",
    "                           austin_data['B09018_002E']\n",
    "\n",
    "acs_household_with_child = pd.melt(austin_data, id_vars=['county name'],\n",
    "                                   value_vars=['yes', 'no'],\n",
    "                                   var_name = 'hh_children', value_name = 'ACS households')\n",
    "acs_household_with_child = acs_household_with_child.groupby('hh_children')[['ACS households']].sum()\n",
    "acs_household_with_child = acs_household_with_child.reset_index()\n",
    "\n",
    "household_by_child_comparison = pd.merge(acs_household_with_child,\n",
    "                                         modeled_household_with_child,\n",
    "                                         on = 'hh_children', how = 'left')\n",
    "\n",
    "household_by_child_comparison.plot(x = 'hh_children', kind = 'bar')\n",
    "plt.ylabel('count of households')\n",
    "plt.title('Total households by children presence comparison')\n",
    "plt.xticks(rotation=0, ha='center')\n",
    "plt.xlabel('Children presence in household')\n",
    "# plt.legend(loc = 3)\n",
    "plt_file_name = \"household_count_by_child.png\"\n",
    "plt.savefig(project_folder.joinpath(\"Output\", city_name, simulation_name, analysis_type, \"plot\",plt_file_name), dpi = 600, bbox_inches = 'tight')\n",
    "# plt.show()"
   ],
   "metadata": {
    "collapsed": false,
    "ExecuteTime": {
     "start_time": "2023-04-27T15:31:33.072196Z",
     "end_time": "2023-04-27T15:31:44.938256Z"
    }
   }
  },
  {
   "cell_type": "code",
   "execution_count": 31,
   "outputs": [],
   "source": [
    "bucket_name = \"beam-core-outputs\"\n",
    "source_file_name = project_folder.joinpath(\"Output\", city_name, simulation_name, analysis_type, \"plot\",plt_file_name)\n",
    "destination_blob_name = f\"output/{city_name}/{simulation_name}/Output/plot/{plt_file_name}\"\n",
    "# Check if the file exist in the bucket. If \"Yes\", delete\n",
    "try:\n",
    "    delete_blob(_bucket_name=bucket_name, _blob_name=destination_blob_name)\n",
    "except:\n",
    "    pass\n",
    "# and upload the file\n",
    "upload_blob(bucket_name, source_file_name, destination_blob_name)"
   ],
   "metadata": {
    "collapsed": false,
    "ExecuteTime": {
     "start_time": "2023-04-27T15:31:33.072196Z",
     "end_time": "2023-04-27T15:31:45.185572Z"
    }
   }
  },
  {
   "cell_type": "code",
   "execution_count": 32,
   "outputs": [],
   "source": [
    "# compare person by gender\n",
    "person_by_gender = persons.groupby('person_sex')[['person_id']].count()\n",
    "person_by_gender.columns = ['BEAM persons']\n",
    "person_by_gender = person_by_gender.reset_index()\n",
    "# person_by_gender\n",
    "\n",
    "austin_data.loc[:, 'male'] = austin_data['B01001_002E']\n",
    "austin_data.loc[:, 'female'] = austin_data['B01001_026E']\n",
    "\n",
    "acs_person_by_gender = pd.melt(austin_data, id_vars=['county name'],\n",
    "                               value_vars=['male', 'female'],\n",
    "                               var_name = 'person_sex', value_name = 'ACS persons')\n",
    "acs_person_by_gender = acs_person_by_gender.groupby('person_sex')[['ACS persons']].sum()\n",
    "acs_person_by_gender = acs_person_by_gender.reset_index()\n",
    "\n",
    "person_by_gender_comparison = pd.merge(acs_person_by_gender,\n",
    "                                       person_by_gender,\n",
    "                                       on = 'person_sex', how = 'left')\n",
    "\n",
    "person_by_gender_comparison.plot(x = 'person_sex', kind = 'bar')\n",
    "plt.ylabel('count of persons')\n",
    "plt.title('Total persons by gender comparison')\n",
    "# plt.legend(loc = 3)\n",
    "\n",
    "plt.xticks(rotation=0, ha='center')\n",
    "plt.xlabel('Gender')\n",
    "plt_file_name = \"person_count_by_gender.png\"\n",
    "plt.savefig(project_folder.joinpath(\"Output\", city_name, simulation_name, analysis_type, \"plot\",plt_file_name), dpi = 600, bbox_inches = 'tight')\n",
    "# plt.show()"
   ],
   "metadata": {
    "collapsed": false,
    "ExecuteTime": {
     "start_time": "2023-04-27T15:31:33.072196Z",
     "end_time": "2023-04-27T15:31:45.930283Z"
    }
   }
  },
  {
   "cell_type": "code",
   "execution_count": 33,
   "outputs": [],
   "source": [
    "bucket_name = \"beam-core-outputs\"\n",
    "source_file_name = project_folder.joinpath(\"Output\", city_name, simulation_name, analysis_type, \"plot\",plt_file_name)\n",
    "destination_blob_name = f\"output/{city_name}/{simulation_name}/Output/plot/{plt_file_name}\"\n",
    "# Check if the file exist in the bucket. If \"Yes\", delete\n",
    "try:\n",
    "    delete_blob(_bucket_name=bucket_name, _blob_name=destination_blob_name)\n",
    "except:\n",
    "    pass\n",
    "# and upload the file\n",
    "upload_blob(bucket_name, source_file_name, destination_blob_name)"
   ],
   "metadata": {
    "collapsed": false,
    "ExecuteTime": {
     "start_time": "2023-04-27T15:31:33.072196Z",
     "end_time": "2023-04-27T15:31:46.170317Z"
    }
   }
  },
  {
   "cell_type": "code",
   "execution_count": 34,
   "outputs": [],
   "source": [
    "# compare person by age\n",
    "person_by_age = persons.groupby('person_age')[['person_id']].count()\n",
    "person_by_age.columns = ['BEAM persons']\n",
    "person_by_age = person_by_age.reset_index()\n",
    "# person_by_age\n",
    "\n",
    "group1_var = ['B01001_003E', 'B01001_004E', 'B01001_005E', 'B01001_006E', 'B01001_007E',\n",
    "              'B01001_027E', 'B01001_028E', 'B01001_029E', 'B01001_030E', 'B01001_031E']\n",
    "group2_var = ['B01001_008E', 'B01001_009E', 'B01001_010E', 'B01001_011E', 'B01001_012E',\n",
    "              'B01001_032E', 'B01001_033E', 'B01001_034E', 'B01001_035E', 'B01001_036E']\n",
    "group3_var = ['B01001_013E', 'B01001_014E', 'B01001_015E', 'B01001_016E', 'B01001_017E',\n",
    "              'B01001_037E', 'B01001_038E', 'B01001_039E', 'B01001_040E', 'B01001_041E']\n",
    "\n",
    "austin_data.loc[:, '19 and under'] = austin_data[group1_var].sum(axis = 1)\n",
    "austin_data.loc[:, '20 to 35'] = austin_data[group2_var].sum(axis = 1)\n",
    "austin_data.loc[:, '35 to 60'] = austin_data[group3_var].sum(axis = 1)\n",
    "austin_data.loc[:, 'above 60'] = austin_data['B01001_001E'] - \\\n",
    "                                 austin_data[ '19 and under'] - austin_data['20 to 35'] - \\\n",
    "                                 austin_data['35 to 60']\n",
    "\n",
    "acs_person_by_age = pd.melt(austin_data, id_vars=['county name'],\n",
    "                            value_vars=['19 and under', '20 to 35', '35 to 60', 'above 60'],\n",
    "                            var_name = 'person_age', value_name = 'ACS persons')\n",
    "acs_person_by_age = acs_person_by_age.groupby('person_age')[['ACS persons']].sum()\n",
    "acs_person_by_age = acs_person_by_age.reset_index()\n",
    "\n",
    "person_by_age_comparison = pd.merge(acs_person_by_age,\n",
    "                                    person_by_age,\n",
    "                                    on = 'person_age', how = 'left')\n",
    "\n",
    "person_by_age_comparison.plot(x = 'person_age', kind = 'bar')\n",
    "plt.ylabel('count of persons')\n",
    "plt.title('Total persons by age group comparison')\n",
    "# plt.legend(loc = 3)\n",
    "\n",
    "plt.xticks(rotation=0, ha='center')\n",
    "plt.xlabel('Age groups')\n",
    "plt_file_name = \"person_count_by_age.png\"\n",
    "plt.savefig(project_folder.joinpath(\"Output\", city_name, simulation_name, analysis_type, \"plot\",plt_file_name), dpi = 600, bbox_inches = 'tight')\n",
    "plt.show()"
   ],
   "metadata": {
    "collapsed": false,
    "ExecuteTime": {
     "start_time": "2023-04-27T15:31:33.072196Z",
     "end_time": "2023-04-27T15:31:46.998629Z"
    }
   }
  },
  {
   "cell_type": "code",
   "execution_count": 35,
   "outputs": [],
   "source": [
    "bucket_name = \"beam-core-outputs\"\n",
    "source_file_name = project_folder.joinpath(\"Output\", city_name, simulation_name, analysis_type, \"plot\",plt_file_name)\n",
    "destination_blob_name = f\"output/{city_name}/{simulation_name}/Output/plot/{plt_file_name}\"\n",
    "# Check if the file exist in the bucket. If \"Yes\", delete\n",
    "try:\n",
    "    delete_blob(_bucket_name=bucket_name, _blob_name=destination_blob_name)\n",
    "except:\n",
    "    pass\n",
    "# and upload the file\n",
    "upload_blob(bucket_name, source_file_name, destination_blob_name)"
   ],
   "metadata": {
    "collapsed": false,
    "ExecuteTime": {
     "start_time": "2023-04-27T15:31:33.072196Z",
     "end_time": "2023-04-27T15:31:47.240287Z"
    }
   }
  },
  {
   "cell_type": "code",
   "execution_count": 36,
   "outputs": [],
   "source": [
    "# compare person by age\n",
    "person_by_race = persons.groupby('race')[['person_id']].count()\n",
    "person_by_race.columns = ['BEAM persons']\n",
    "person_by_race = person_by_race.reset_index()\n",
    "# person_by_race\n",
    "\n",
    "austin_data.loc[:, 'white'] = austin_data['B02001_002E']\n",
    "austin_data.loc[:, 'black'] = austin_data['B02001_003E']\n",
    "austin_data.loc[:, 'asian'] = austin_data['B02001_005E']\n",
    "austin_data.loc[:, 'other'] = austin_data['B01001_001E'] - \\\n",
    "                              austin_data['white'] - austin_data.loc[:, 'black'] - \\\n",
    "                              austin_data['asian']\n",
    "\n",
    "acs_person_by_race = pd.melt(austin_data, id_vars=['county name'],\n",
    "                             value_vars=['white', 'black', 'asian', 'other'],\n",
    "                             var_name = 'race', value_name = 'ACS persons')\n",
    "acs_person_by_race = acs_person_by_race.groupby('race')[['ACS persons']].sum()\n",
    "acs_person_by_race = acs_person_by_race.reset_index()\n",
    "\n",
    "\n",
    "person_by_race_comparison = pd.merge(acs_person_by_race,\n",
    "                                     person_by_race,\n",
    "                                     on = 'race', how = 'left')\n",
    "person_by_race_comparison = person_by_race_comparison.sort_values('ACS persons', ascending = False)\n",
    "person_by_race_comparison.plot(x = 'race', kind = 'bar')\n",
    "plt.ylabel('count of persons')\n",
    "plt.title('Total persons by race comparison')\n",
    "plt.legend(loc=1)\n",
    "\n",
    "plt.xticks(rotation=0, ha='center')\n",
    "plt.xlabel('Race')\n",
    "plt_file_name = \"person_count_by_race.png\"\n",
    "plt.savefig(project_folder.joinpath(\"Output\", city_name, simulation_name, analysis_type, \"plot\",plt_file_name), dpi = 600, bbox_inches = 'tight')\n",
    "plt.show()"
   ],
   "metadata": {
    "collapsed": false,
    "ExecuteTime": {
     "start_time": "2023-04-27T15:31:33.072196Z",
     "end_time": "2023-04-27T15:31:48.029305Z"
    }
   }
  },
  {
   "cell_type": "code",
   "execution_count": 37,
   "outputs": [],
   "source": [
    "bucket_name = \"beam-core-outputs\"\n",
    "source_file_name = project_folder.joinpath(\"Output\", city_name, simulation_name, analysis_type, \"plot\",plt_file_name)\n",
    "destination_blob_name = f\"output/{city_name}/{simulation_name}/Output/plot/{plt_file_name}\"\n",
    "# Check if the file exist in the bucket. If \"Yes\", delete\n",
    "try:\n",
    "    delete_blob(_bucket_name=bucket_name, _blob_name=destination_blob_name)\n",
    "except:\n",
    "    pass\n",
    "# and upload the file\n",
    "upload_blob(bucket_name, source_file_name, destination_blob_name)"
   ],
   "metadata": {
    "collapsed": false,
    "ExecuteTime": {
     "start_time": "2023-04-27T15:31:33.072196Z",
     "end_time": "2023-04-27T15:31:48.264111Z"
    }
   }
  },
  {
   "cell_type": "code",
   "execution_count": 38,
   "outputs": [],
   "source": [
    "# compare person by worker status\n",
    "person_by_worker = persons.groupby('worker')[['person_id']].count()\n",
    "person_by_worker.columns = ['BEAM persons']\n",
    "person_by_worker = person_by_worker.reset_index()\n",
    "person_by_worker['worker'] = person_by_worker['worker'].astype(str)\n",
    "# person_by_worker\n",
    "\n",
    "austin_data.loc[:, '1'] = austin_data['B23025_002E']\n",
    "austin_data.loc[:, '0'] = austin_data['B01001_001E'] - austin_data['1']\n",
    "\n",
    "\n",
    "acs_person_by_worker = pd.melt(austin_data, id_vars=['county name'],\n",
    "                               value_vars=['1', '0'],\n",
    "                               var_name = 'worker', value_name = 'ACS persons')\n",
    "acs_person_by_worker = acs_person_by_worker.groupby('worker')[['ACS persons']].sum()\n",
    "acs_person_by_worker = acs_person_by_worker.reset_index()\n",
    "\n",
    "person_by_worker_comparison = pd.merge(acs_person_by_worker,\n",
    "                                       person_by_worker,\n",
    "                                       on = 'worker', how = 'left')\n",
    "\n",
    "person_by_worker_comparison.plot(x = 'worker', kind = 'bar')\n",
    "plt.ylabel('count of persons')\n",
    "plt.title('Total persons by working status comparison')\n",
    "# plt.legend(loc=2)\n",
    "labels = [\"No\", \"Yes\"]\n",
    "# plt.axes[0].set_xticks(labels)\n",
    "plt.xticks(rotation=0,  ha='center')\n",
    "# plt.set_xticklabels([\"No\", \"Yes\"])\n",
    "plt.xlabel('Working status')\n",
    "plt_file_name = \"person_count_by_worker.png\"\n",
    "plt.savefig(project_folder.joinpath(\"Output\", city_name, simulation_name, analysis_type, \"plot\",plt_file_name), dpi = 600, bbox_inches = 'tight')\n",
    "plt.show()"
   ],
   "metadata": {
    "collapsed": false,
    "ExecuteTime": {
     "start_time": "2023-04-27T15:31:33.072196Z",
     "end_time": "2023-04-27T15:31:48.948662Z"
    }
   }
  },
  {
   "cell_type": "code",
   "execution_count": 39,
   "outputs": [],
   "source": [
    "bucket_name = \"beam-core-outputs\"\n",
    "source_file_name = project_folder.joinpath(\"Output\", city_name, simulation_name, analysis_type, \"plot\",plt_file_name)\n",
    "destination_blob_name = f\"output/{city_name}/{simulation_name}/Output/plot/{plt_file_name}\"\n",
    "# Check if the file exist in the bucket. If \"Yes\", delete\n",
    "try:\n",
    "    delete_blob(_bucket_name=bucket_name, _blob_name=destination_blob_name)\n",
    "except:\n",
    "    pass\n",
    "# and upload the file\n",
    "upload_blob(bucket_name, source_file_name, destination_blob_name)"
   ],
   "metadata": {
    "collapsed": false,
    "ExecuteTime": {
     "start_time": "2023-04-27T15:31:33.072196Z",
     "end_time": "2023-04-27T15:31:49.188706Z"
    }
   }
  },
  {
   "cell_type": "code",
   "execution_count": 40,
   "outputs": [],
   "source": [
    "person_by_worker_comparison"
   ],
   "metadata": {
    "collapsed": false,
    "ExecuteTime": {
     "start_time": "2023-04-27T15:31:33.072196Z",
     "end_time": "2023-04-27T15:31:49.201786Z"
    }
   }
  },
  {
   "cell_type": "code",
   "execution_count": 41,
   "outputs": [],
   "source": [
    "censusdata.printtable(censusdata.censustable('acs5', 2018, 'B23025'))"
   ],
   "metadata": {
    "collapsed": false,
    "ExecuteTime": {
     "start_time": "2023-04-27T15:31:33.072196Z",
     "end_time": "2023-04-27T15:31:49.274670Z"
    }
   }
  },
  {
   "cell_type": "code",
   "execution_count": null,
   "outputs": [],
   "source": [],
   "metadata": {
    "collapsed": false
   }
  },
  {
   "cell_type": "code",
   "execution_count": null,
   "outputs": [],
   "source": [],
   "metadata": {
    "collapsed": false
   }
  },
  {
   "cell_type": "code",
   "execution_count": null,
   "outputs": [],
   "source": [],
   "metadata": {
    "collapsed": false
   }
  },
  {
   "cell_type": "code",
   "execution_count": null,
   "outputs": [],
   "source": [],
   "metadata": {
    "collapsed": false
   }
  }
 ],
 "metadata": {
  "kernelspec": {
   "display_name": "Python 3",
   "language": "python",
   "name": "python3"
  },
  "language_info": {
   "codemirror_mode": {
    "name": "ipython",
    "version": 2
   },
   "file_extension": ".py",
   "mimetype": "text/x-python",
   "name": "python",
   "nbconvert_exporter": "python",
   "pygments_lexer": "ipython2",
   "version": "2.7.6"
  }
 },
 "nbformat": 4,
 "nbformat_minor": 0
}
